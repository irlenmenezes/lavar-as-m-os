{
 "cells": [
  {
   "cell_type": "markdown",
   "id": "35839607-c552-4f2b-adf5-0cc33f02c569",
   "metadata": {},
   "source": [
    "## 1.  descobriu que a incidência de infecção pós-parto (também conhecida como febre de parto) poderia ser drasticamente reduzida pelo uso da desinfecção das mãos em clínicas obstétricas\n",
    "<p><img style=\"float: left;margin:5px 20px 5px 1px\" src=\"https://hospitaldocoracao.com.br/novo/wp-content/uploads/2019/12/ignaz-semmeweis-215x300.jpg\"></p>\n",
    "<!--\n",
    "<img style=\"float: left;margin:5px 20px 5px 1px\" src=\"https://hospitaldocoracao.com.br/novo/wp-content/uploads/2019/12/ignaz-semmeweis-215x300.jpg\">\n",
    "-->\n",
    "<p>Ignaz Philipp Semmelweis  nasceu em 1º de julho de 1818 em Buda, hoje parte de Budapeste,  Hungria, de família de  origem germânica. Iniciou os estudos universitários no curso de Direito  na Universidade de Viena, em 1837. No ano seguinte, mudou para a Faculdade de Medicina, graduando-se em 1844. Em seguida,  decidiu se especializar em obstetrícia, sendo nomeado assistente na primeira clínica de Obstetrícia do Hospital Geral de Viena, na Áustria.\n",
    "\n",
    "Chamou a atenção de Semmelweis o fato da mortalidade materna pela febre puerperal (pós-parto) ser em torno de dez por cento na primeira clínica obstétrica, enquanto na segunda clínica a mortalidade era de quatro por cento. A população de Viena sabia da má reputação da primeira clínica e não aceitava internação lá, preferindo o parto em casa ou mesmo na rua. Semmelweis observou o funcionamento das duas clínicas e unificou todos os procedimentos e comportamentos:  posição da mobília, mesma técnica obstétrica, manter as janelas fechadas – até os serviços religiosos passaram a ser exatamente iguais. A grande diferença encontrada era nas pessoas que davam assistência aos partos nas clínicas: enquanto na segunda clínica (de mortalidade pós-parto menor) eram as parteiras a assistir aos partos, na primeira clínica eram os estudantes de medicina que assistiam aos partos – era lá que funcionava a prática obstétrica dos estudantes.\n",
    "\n",
    "Em 1847, seu grande amigo Jakob Kolletschka foi acidentalmente ferido pelo bisturi de um aluno durante uma necropsia e, segundo as observações do médico, “contraiu linfangite, peritonite e meningite e  teve metástase num globo ocular” . O amigo faleceu e seu quadro clínico e o exame post mortem mostraram aspectos semelhantes aos exames das mulheres que morriam da febre puerperal. Isso fez Semmelweis associar a contaminação cadavérica com a febre puerperal, concluindo que os médicos e os estudantes carregavam “partículas cadavéricas” em suas mãos das necropsias para as salas de parto, enquanto as parteiras não tinham contato com os cadáveres ou necropsias. Ele instituiu então a prática de lavagem de mãos para médicos e estudantes de medicina com solução de cal clorada (hipoclorito cálcico) antes dos partos. O resultado desta prática foi a queda nos índices de mortalidade materna, assemelhando-se às estatísticas da segunda clínica obstétrica. Mas apesar dos bons resultados, as condutas de Semmelweis foram contestadas e rejeitadas por seus superiores: houve preconceito por conta da sua nacionalidade húngara, conflito com a opinião estabelecida e ele terminou sendo demitido por motivos políticos, pois defendia a independência de seu país, Hungria, do império austríaco.\n",
    "\n",
    "Semmelweis retornou para a Hungria onde, em 20 de maio de 1851, assumiu o cargo de médico honorário, de pouco prestígio e não remunerado, na enfermaria obstétrica do pequeno Hospital Szent Rókus (São Roque), em Budapeste. Depois deu aulas na maternidade de Budapeste, onde a febre puerperal era costumava ser frequente mas foi praticamente eliminada depois das práticas preconizadas por ele.\n",
    "\n",
    "Em 1857, casou-se com Maria Weidenhofer, com quem teve cinco filhos. No mesmo ano em que casou, o médico recusou um convite para ser professor da Universidade de Zurique, na Suiça. Em 1861 publicou o resultado de seu trabalho no livro “ Etiologia, conceito e profilaxia da febre puerperal”.\n",
    "\n",
    "As teorias de Semmelweis, no entanto, eram muito criticadas e seus colegas médicos relutavam em adotar seus métodos de prevenção de infecções, o que o tornou irritado e agressivo –  Semmelweis chegou a acusar muitos profissionais proeminentes na Europa de serem responsáveis por assassinato nos partos. A própria esposa e alguns amigos achavam que ele estava com desequilíbrio mental, e, a pretexto de visitar um novo instituto médico, o levaram para um asilo de doentes psiquiátricos. Quando ele percebeu que estava sendo internado, tentou sair, mas foi contido com violência, submetido a camisa de força e colocado numa cela escura. Duas semanas depois, em 13 de agosto de 1865, morreu aos 47 anos, vítima de uma infecção no dedo médio da mão direita, que gangrenou.\n",
    "\n",
    "A hipótese de Semmelweis foi reconhecida anos depois de sua morte, quando o químico francês Louis Pasteur (1822–1895) desenvolveu a teoria dos germes das doenças, revolucionando o combate às infecções – Pasteur confirmou, com suas experiências científicas, as observações de Semmelweis, assim como o cirurgião e pesquisador britânico Joseph Lister (1827-1912), considerado o “pai” da cirurgia moderna por ter desenvolvido as técnicas de antissepsia em cirurgias.\n",
    "\n",
    "Como reconhecimento tardio ao trabalho desenvolvido por Semmelweis, em 1894 foi erguido um monumento em sua homenagem, na cidade de Budapeste.</em>!</p>"
   ]
  },
  {
   "cell_type": "markdown",
   "id": "f59afd74-d352-4b8a-a0cc-43edf265d47d",
   "metadata": {},
   "source": [
    "## Neste Notebook, vamos reanalisar os dados que fizeram Semmelweis descobrir a importância de <em> lavar as mãos </em>. Vamos começar examinando os dados que fizeram Semmelweis perceber que algo estava errado com os procedimentos do Hospital Geral de Viena. </p>"
   ]
  },
  {
   "cell_type": "code",
   "execution_count": 51,
   "id": "e4fa57e1-0a41-476f-82ff-d5f12a21a448",
   "metadata": {},
   "outputs": [
    {
     "name": "stderr",
     "output_type": "stream",
     "text": [
      "Parsed with column specification:\n",
      "cols(\n",
      "  year = col_double(),\n",
      "  births = col_double(),\n",
      "  deaths = col_double(),\n",
      "  clinic = col_character()\n",
      ")\n"
     ]
    },
    {
     "data": {
      "text/html": [
       "<table>\n",
       "<thead><tr><th scope=col>year</th><th scope=col>births</th><th scope=col>deaths</th><th scope=col>clinic</th></tr></thead>\n",
       "<tbody>\n",
       "\t<tr><td>1841    </td><td>3036    </td><td>237     </td><td>clinic 1</td></tr>\n",
       "\t<tr><td>1842    </td><td>3287    </td><td>518     </td><td>clinic 1</td></tr>\n",
       "\t<tr><td>1843    </td><td>3060    </td><td>274     </td><td>clinic 1</td></tr>\n",
       "\t<tr><td>1844    </td><td>3157    </td><td>260     </td><td>clinic 1</td></tr>\n",
       "\t<tr><td>1845    </td><td>3492    </td><td>241     </td><td>clinic 1</td></tr>\n",
       "\t<tr><td>1846    </td><td>4010    </td><td>459     </td><td>clinic 1</td></tr>\n",
       "\t<tr><td>1841    </td><td>2442    </td><td> 86     </td><td>clinic 2</td></tr>\n",
       "\t<tr><td>1842    </td><td>2659    </td><td>202     </td><td>clinic 2</td></tr>\n",
       "\t<tr><td>1843    </td><td>2739    </td><td>164     </td><td>clinic 2</td></tr>\n",
       "\t<tr><td>1844    </td><td>2956    </td><td> 68     </td><td>clinic 2</td></tr>\n",
       "\t<tr><td>1845    </td><td>3241    </td><td> 66     </td><td>clinic 2</td></tr>\n",
       "\t<tr><td>1846    </td><td>3754    </td><td>105     </td><td>clinic 2</td></tr>\n",
       "</tbody>\n",
       "</table>\n"
      ],
      "text/latex": [
       "\\begin{tabular}{r|llll}\n",
       " year & births & deaths & clinic\\\\\n",
       "\\hline\n",
       "\t 1841     & 3036     & 237      & clinic 1\\\\\n",
       "\t 1842     & 3287     & 518      & clinic 1\\\\\n",
       "\t 1843     & 3060     & 274      & clinic 1\\\\\n",
       "\t 1844     & 3157     & 260      & clinic 1\\\\\n",
       "\t 1845     & 3492     & 241      & clinic 1\\\\\n",
       "\t 1846     & 4010     & 459      & clinic 1\\\\\n",
       "\t 1841     & 2442     &  86      & clinic 2\\\\\n",
       "\t 1842     & 2659     & 202      & clinic 2\\\\\n",
       "\t 1843     & 2739     & 164      & clinic 2\\\\\n",
       "\t 1844     & 2956     &  68      & clinic 2\\\\\n",
       "\t 1845     & 3241     &  66      & clinic 2\\\\\n",
       "\t 1846     & 3754     & 105      & clinic 2\\\\\n",
       "\\end{tabular}\n"
      ],
      "text/markdown": [
       "\n",
       "| year | births | deaths | clinic |\n",
       "|---|---|---|---|\n",
       "| 1841     | 3036     | 237      | clinic 1 |\n",
       "| 1842     | 3287     | 518      | clinic 1 |\n",
       "| 1843     | 3060     | 274      | clinic 1 |\n",
       "| 1844     | 3157     | 260      | clinic 1 |\n",
       "| 1845     | 3492     | 241      | clinic 1 |\n",
       "| 1846     | 4010     | 459      | clinic 1 |\n",
       "| 1841     | 2442     |  86      | clinic 2 |\n",
       "| 1842     | 2659     | 202      | clinic 2 |\n",
       "| 1843     | 2739     | 164      | clinic 2 |\n",
       "| 1844     | 2956     |  68      | clinic 2 |\n",
       "| 1845     | 3241     |  66      | clinic 2 |\n",
       "| 1846     | 3754     | 105      | clinic 2 |\n",
       "\n"
      ],
      "text/plain": [
       "   year births deaths clinic  \n",
       "1  1841 3036   237    clinic 1\n",
       "2  1842 3287   518    clinic 1\n",
       "3  1843 3060   274    clinic 1\n",
       "4  1844 3157   260    clinic 1\n",
       "5  1845 3492   241    clinic 1\n",
       "6  1846 4010   459    clinic 1\n",
       "7  1841 2442    86    clinic 2\n",
       "8  1842 2659   202    clinic 2\n",
       "9  1843 2739   164    clinic 2\n",
       "10 1844 2956    68    clinic 2\n",
       "11 1845 3241    66    clinic 2\n",
       "12 1846 3754   105    clinic 2"
      ]
     },
     "metadata": {},
     "output_type": "display_data"
    }
   ],
   "source": [
    "# Load in the tidyverse package\n",
    "library(tidyverse)\n",
    "library(ggplot2)\n",
    "library(dplyr)\n",
    "\n",
    "\n",
    "# atribuindo o datasets/yearly_deaths_by_clinic.csv no yearly\n",
    "yearly <- read_csv(file = \"datasets/yearly_deaths_by_clinic.csv\")\n",
    "\n",
    "# Pexibindo o dataset yearly\n",
    "yearly\n",
    "\n"
   ]
  },
  {
   "cell_type": "markdown",
   "id": "ee206f9f-c4e2-487c-8e8e-d8e50bc6267a",
   "metadata": {},
   "source": [
    "#### 2. O número alarmante de mortes\n",
    "<p> A tabela acima mostra o número de mulheres dando à luz nas duas clínicas do Hospital Geral de Viena durante os anos de 1841 a 1846. Você notará que dar à luz era muito perigoso; um número <em> alarmante </em> de mulheres morreu como resultado do parto, a maioria delas de febre do parto. </p>\n",
    "<p> Vemos isso com mais clareza se olharmos para a <em> proporção de mortes </em> em relação ao número de mulheres que dão à luz. </p>"
   ]
  },
  {
   "cell_type": "code",
   "execution_count": 52,
   "id": "3dbac2a0-7f37-4b54-b899-aa585daed5c5",
   "metadata": {},
   "outputs": [
    {
     "data": {
      "text/html": [
       "<table>\n",
       "<thead><tr><th scope=col>year</th><th scope=col>births</th><th scope=col>deaths</th><th scope=col>clinic</th><th scope=col>proportion_deaths</th></tr></thead>\n",
       "<tbody>\n",
       "\t<tr><td>1841      </td><td>3036      </td><td>237       </td><td>clinic 1  </td><td>0.07806324</td></tr>\n",
       "\t<tr><td>1842      </td><td>3287      </td><td>518       </td><td>clinic 1  </td><td>0.15759051</td></tr>\n",
       "\t<tr><td>1843      </td><td>3060      </td><td>274       </td><td>clinic 1  </td><td>0.08954248</td></tr>\n",
       "\t<tr><td>1844      </td><td>3157      </td><td>260       </td><td>clinic 1  </td><td>0.08235667</td></tr>\n",
       "\t<tr><td>1845      </td><td>3492      </td><td>241       </td><td>clinic 1  </td><td>0.06901489</td></tr>\n",
       "\t<tr><td>1846      </td><td>4010      </td><td>459       </td><td>clinic 1  </td><td>0.11446384</td></tr>\n",
       "\t<tr><td>1841      </td><td>2442      </td><td> 86       </td><td>clinic 2  </td><td>0.03521704</td></tr>\n",
       "\t<tr><td>1842      </td><td>2659      </td><td>202       </td><td>clinic 2  </td><td>0.07596841</td></tr>\n",
       "\t<tr><td>1843      </td><td>2739      </td><td>164       </td><td>clinic 2  </td><td>0.05987587</td></tr>\n",
       "\t<tr><td>1844      </td><td>2956      </td><td> 68       </td><td>clinic 2  </td><td>0.02300406</td></tr>\n",
       "\t<tr><td>1845      </td><td>3241      </td><td> 66       </td><td>clinic 2  </td><td>0.02036409</td></tr>\n",
       "\t<tr><td>1846      </td><td>3754      </td><td>105       </td><td>clinic 2  </td><td>0.02797017</td></tr>\n",
       "</tbody>\n",
       "</table>\n"
      ],
      "text/latex": [
       "\\begin{tabular}{r|lllll}\n",
       " year & births & deaths & clinic & proportion\\_deaths\\\\\n",
       "\\hline\n",
       "\t 1841       & 3036       & 237        & clinic 1   & 0.07806324\\\\\n",
       "\t 1842       & 3287       & 518        & clinic 1   & 0.15759051\\\\\n",
       "\t 1843       & 3060       & 274        & clinic 1   & 0.08954248\\\\\n",
       "\t 1844       & 3157       & 260        & clinic 1   & 0.08235667\\\\\n",
       "\t 1845       & 3492       & 241        & clinic 1   & 0.06901489\\\\\n",
       "\t 1846       & 4010       & 459        & clinic 1   & 0.11446384\\\\\n",
       "\t 1841       & 2442       &  86        & clinic 2   & 0.03521704\\\\\n",
       "\t 1842       & 2659       & 202        & clinic 2   & 0.07596841\\\\\n",
       "\t 1843       & 2739       & 164        & clinic 2   & 0.05987587\\\\\n",
       "\t 1844       & 2956       &  68        & clinic 2   & 0.02300406\\\\\n",
       "\t 1845       & 3241       &  66        & clinic 2   & 0.02036409\\\\\n",
       "\t 1846       & 3754       & 105        & clinic 2   & 0.02797017\\\\\n",
       "\\end{tabular}\n"
      ],
      "text/markdown": [
       "\n",
       "| year | births | deaths | clinic | proportion_deaths |\n",
       "|---|---|---|---|---|\n",
       "| 1841       | 3036       | 237        | clinic 1   | 0.07806324 |\n",
       "| 1842       | 3287       | 518        | clinic 1   | 0.15759051 |\n",
       "| 1843       | 3060       | 274        | clinic 1   | 0.08954248 |\n",
       "| 1844       | 3157       | 260        | clinic 1   | 0.08235667 |\n",
       "| 1845       | 3492       | 241        | clinic 1   | 0.06901489 |\n",
       "| 1846       | 4010       | 459        | clinic 1   | 0.11446384 |\n",
       "| 1841       | 2442       |  86        | clinic 2   | 0.03521704 |\n",
       "| 1842       | 2659       | 202        | clinic 2   | 0.07596841 |\n",
       "| 1843       | 2739       | 164        | clinic 2   | 0.05987587 |\n",
       "| 1844       | 2956       |  68        | clinic 2   | 0.02300406 |\n",
       "| 1845       | 3241       |  66        | clinic 2   | 0.02036409 |\n",
       "| 1846       | 3754       | 105        | clinic 2   | 0.02797017 |\n",
       "\n"
      ],
      "text/plain": [
       "   year births deaths clinic   proportion_deaths\n",
       "1  1841 3036   237    clinic 1 0.07806324       \n",
       "2  1842 3287   518    clinic 1 0.15759051       \n",
       "3  1843 3060   274    clinic 1 0.08954248       \n",
       "4  1844 3157   260    clinic 1 0.08235667       \n",
       "5  1845 3492   241    clinic 1 0.06901489       \n",
       "6  1846 4010   459    clinic 1 0.11446384       \n",
       "7  1841 2442    86    clinic 2 0.03521704       \n",
       "8  1842 2659   202    clinic 2 0.07596841       \n",
       "9  1843 2739   164    clinic 2 0.05987587       \n",
       "10 1844 2956    68    clinic 2 0.02300406       \n",
       "11 1845 3241    66    clinic 2 0.02036409       \n",
       "12 1846 3754   105    clinic 2 0.02797017       "
      ]
     },
     "metadata": {},
     "output_type": "display_data"
    }
   ],
   "source": [
    "library(dplyr)\n",
    "# Adicionando uma nova coluna ao ano com proporção de mortes sem nascimentos\n",
    "yearly<-mutate(yearly, proportion_deaths = deaths/births)\n",
    "\n",
    "# Imprimir  yearly\n",
    "yearly"
   ]
  },
  {
   "cell_type": "markdown",
   "id": "2269ff51-b9ed-4023-92a4-2a7f837f9a8a",
   "metadata": {},
   "source": [
    "## 3. Morte nas clínicas\n",
    "<p> Se agora representarmos graficamente a proporção de mortes na clínica 1 e na clínica 2, veremos um padrão curioso ... </p>"
   ]
  },
  {
   "cell_type": "code",
   "execution_count": 53,
   "id": "c9c7d145-d1c5-4ba3-ba2d-b0bd66df3868",
   "metadata": {},
   "outputs": [
    {
     "data": {
      "image/png": "[encoded data removed]",
      "text/plain": [
       "plot without title"
      ]
     },
     "metadata": {},
     "output_type": "display_data"
    }
   ],
   "source": [
    "# Configurando o tamanho do gráfico\n",
    "options(repr.plot.width=7, repr.plot.height=4)\n",
    "\n",
    "# plotando  a proporção de mortes entre as 2 clinicas\n",
    "ggplot(yearly, aes(year, proportion_deaths, group=clinic, colour=clinic)) + geom_line()"
   ]
  },
  {
   "cell_type": "markdown",
   "id": "c5a535c1-e7ed-48df-a6e2-e770e45501aa",
   "metadata": {},
   "source": [
    "## 4. A lavagem das mãos começa\n",
    "<p> Por que a proporção de mortes é constantemente muito mais alta na Clínica 1? Semmelweis viu o mesmo padrão e ficou perplexo e angustiado. A única diferença entre as clínicas era que muitos estudantes de medicina serviam na Clínica 1, enquanto a maioria dos estudantes parteiras servia na Clínica 2. Enquanto as parteiras cuidavam apenas das mulheres que estavam dando à luz, os estudantes de medicina também passavam algum tempo nas salas de autópsia examinando cadáveres. </p>\n",
    "<p> Semmelweis começou a suspeitar que algo nos cadáveres, espalhado pelas mãos dos estudantes de medicina, causou febre puerperal. Então, em uma tentativa desesperada de parar as altas taxas de mortalidade, ele decretou: <em> Lave as mãos! </em> Este foi um pedido heterodoxo e controverso, ninguém em Viena sabia sobre bactérias neste momento. </p>\n",
    "<p> Vamos carregar os dados mensais da Clínica 1 para ver se a lavagem das mãos teve algum efeito. </p>"
   ]
  },
  {
   "cell_type": "code",
   "execution_count": 54,
   "id": "83d8ba55-6890-4329-9942-160883e0889b",
   "metadata": {},
   "outputs": [
    {
     "name": "stderr",
     "output_type": "stream",
     "text": [
      "Parsed with column specification:\n",
      "cols(\n",
      "  date = col_date(format = \"\"),\n",
      "  births = col_double(),\n",
      "  deaths = col_double()\n",
      ")\n"
     ]
    },
    {
     "data": {
      "text/html": [
       "<table>\n",
       "<thead><tr><th scope=col>date</th><th scope=col>births</th><th scope=col>deaths</th><th scope=col>proportion_deaths</th></tr></thead>\n",
       "<tbody>\n",
       "\t<tr><td>1841-01-01</td><td>254       </td><td>37        </td><td>0.1456693 </td></tr>\n",
       "</tbody>\n",
       "</table>\n"
      ],
      "text/latex": [
       "\\begin{tabular}{r|llll}\n",
       " date & births & deaths & proportion\\_deaths\\\\\n",
       "\\hline\n",
       "\t 1841-01-01 & 254        & 37         & 0.1456693 \\\\\n",
       "\\end{tabular}\n"
      ],
      "text/markdown": [
       "\n",
       "| date | births | deaths | proportion_deaths |\n",
       "|---|---|---|---|\n",
       "| 1841-01-01 | 254        | 37         | 0.1456693  |\n",
       "\n"
      ],
      "text/plain": [
       "  date       births deaths proportion_deaths\n",
       "1 1841-01-01 254    37     0.1456693        "
      ]
     },
     "metadata": {},
     "output_type": "display_data"
    }
   ],
   "source": [
    "# Leia conjuntos de dados / monthly_deaths.csv em monthly\n",
    "monthly <- read_csv(file = \"datasets/monthly_deaths.csv\")\n",
    "\n",
    "# Adicionando uma nova coluna com proportion_deaths por nº de births\n",
    "\n",
    "monthly <- monthly %>% \n",
    "    mutate(proportion_deaths = deaths / births)\n",
    "\n",
    "# Imprima as primeiras linhas mensalmente\n",
    "head(monthly, n = 1)"
   ]
  },
  {
   "cell_type": "markdown",
   "id": "be664e71-2bf8-42cd-aa19-4aa430cacb22",
   "metadata": {},
   "source": [
    "A lavagem das mãos começa\n",
    "Por que a proporção de mortes é constantemente muito mais alta na Clínica 1? Semmelweis viu o mesmo padrão e ficou perplexo e angustiado. A única diferença entre as clínicas era que muitos estudantes de medicina serviam na Clínica 1, enquanto a maioria dos estudantes parteiras servia na Clínica 2. Enquanto as parteiras cuidavam apenas das mulheres que estavam dando à luz, os estudantes de medicina também passavam algum tempo nas salas de autópsia examinando cadáveres.\n",
    "\n",
    "Semmelweis começou a suspeitar que algo nos cadáveres, espalhado pelas mãos dos estudantes de medicina, causava febre puerperal. Então, em uma tentativa desesperada de conter as altas taxas de mortalidade, ele decretou: Lave as mãos! Este foi um pedido pouco ortodoxo e controverso, ninguém em Viena sabia sobre bactérias neste momento.\n",
    "\n",
    "Vamos carregar os dados mensais da Clínica 1 para ver se a lavagem das mãos teve algum efeito."
   ]
  },
  {
   "cell_type": "markdown",
   "id": "8eca1b48-6b42-4160-a7c5-f3ab8a454078",
   "metadata": {},
   "source": [
    "## 5. O efeito da lavagem das mãos\n",
    "<p> Com os dados carregados, agora podemos ver a proporção de mortes ao longo do tempo. No gráfico abaixo, não marcamos onde a lavagem obrigatória das mãos começou, mas reduziu a proporção de mortes a tal ponto que você deve ser capaz de identificá-la! </p>"
   ]
  },
  {
   "cell_type": "code",
   "execution_count": 55,
   "id": "b3999e28-f553-4499-8c3f-f3dfb8047033",
   "metadata": {},
   "outputs": [
    {
     "data": {
      "image/png": "[encoded data removed]",
      "text/plain": [
       "plot without title"
      ]
     },
     "metadata": {},
     "output_type": "display_data"
    },
    {
     "data": {
      "image/png": "[encoded data removed]",
      "text/plain": [
       "plot without title"
      ]
     },
     "metadata": {},
     "output_type": "display_data"
    }
   ],
   "source": [
    "# Plotagem da proporção mensal de morte\n",
    "ggplot(monthly, aes(x = date, y = proportion_deaths)) +\n",
    "    geom_line() +\n",
    "    labs(x = \"date\", y = \"proportion_deaths\")\n",
    "library(ggplot2)\n",
    "ggplot(monthly, aes(x=date, y=proportion_deaths)) + geom_point()"
   ]
  },
  {
   "cell_type": "markdown",
   "id": "acbe0d75-766f-4c36-a5de-519602a35546",
   "metadata": {},
   "source": [
    "## 6. O efeito da lavagem das mãos destacado\n",
    "<p> A partir do verão de 1847, a proporção de mortes foi drasticamente reduzida e, sim, foi quando Semmelweis tornou a lavagem das mãos obrigatória. </p>\n",
    "<p> O efeito da lavagem das mãos fica ainda mais claro se destacarmos isso no gráfico. </p>"
   ]
  },
  {
   "cell_type": "code",
   "execution_count": 56,
   "id": "4b24d60c-f492-47a1-acd4-c33dec1e8ef3",
   "metadata": {},
   "outputs": [
    {
     "data": {
      "image/png": "[encoded data removed]",
      "text/plain": [
       "plot without title"
      ]
     },
     "metadata": {},
     "output_type": "display_data"
    }
   ],
   "source": [
    "# A partir desta data, a lavagem das mãos passou a ser obrigatória\n",
    "handwashing_start = as.Date('1847-06-01')\n",
    "\n",
    "# Adicione uma coluna VERDADEIRO / FALSO ao mês chamado handwashing_started\n",
    "monthly <- monthly %>% \n",
    "    mutate(handwashing_started = \n",
    "           date >= handwashing_start)\n",
    "\n",
    "# Plot monthly proportion of deaths before and after handwashing\n",
    "ggplot(monthly, aes(x=date, y=proportion_deaths,group=handwashing_started,colour=handwashing_started)) + geom_line() +  geom_point()"
   ]
  },
  {
   "cell_type": "markdown",
   "id": "f681a558-3c5a-426b-b20a-1aee7284ff9b",
   "metadata": {},
   "source": [
    "## 7. Mais lavagem das mãos, menos mortes?\n",
    "<p> Mais uma vez, o gráfico mostra que lavar as mãos teve um efeito enorme. Quanto isso reduziu a proporção mensal de mortes em média? </p>"
   ]
  },
  {
   "cell_type": "code",
   "execution_count": 57,
   "id": "0837f178-b6c8-4b8c-beea-917f2271fdcb",
   "metadata": {},
   "outputs": [
    {
     "data": {
      "text/html": [
       "<table>\n",
       "<thead><tr><th scope=col>handwashing_started</th><th scope=col>mean_proportion_deaths</th></tr></thead>\n",
       "<tbody>\n",
       "\t<tr><td>FALSE     </td><td>0.10504998</td></tr>\n",
       "\t<tr><td> TRUE     </td><td>0.02109338</td></tr>\n",
       "</tbody>\n",
       "</table>\n"
      ],
      "text/latex": [
       "\\begin{tabular}{r|ll}\n",
       " handwashing\\_started & mean\\_proportion\\_deaths\\\\\n",
       "\\hline\n",
       "\t FALSE      & 0.10504998\\\\\n",
       "\t  TRUE      & 0.02109338\\\\\n",
       "\\end{tabular}\n"
      ],
      "text/markdown": [
       "\n",
       "| handwashing_started | mean_proportion_deaths |\n",
       "|---|---|\n",
       "| FALSE      | 0.10504998 |\n",
       "|  TRUE      | 0.02109338 |\n",
       "\n"
      ],
      "text/plain": [
       "  handwashing_started mean_proportion_deaths\n",
       "1 FALSE               0.10504998            \n",
       "2  TRUE               0.02109338            "
      ]
     },
     "metadata": {},
     "output_type": "display_data"
    }
   ],
   "source": [
    "# Calculando a proporção média de mortes\n",
    "# antes e depois da lavagem das mãos.\n",
    "\n",
    "monthly_summary <- monthly %>% \n",
    "    group_by(handwashing_started) %>% \n",
    "    summarize(mean_proportion_deaths = mean(proportion_deaths))\n",
    "\n",
    "# Imprimindo resiltado\n",
    "monthly_summary"
   ]
  },
  {
   "cell_type": "markdown",
   "id": "a707c8a9-e201-428e-ba6c-ba138c4f6c66",
   "metadata": {},
   "source": [
    "## 8. Uma análise estatística dos dados de lavagem das mãos de Semmelweis\n",
    "<p> Reduziu a proporção de mortes em cerca de 8 pontos percentuais! De 10% em média antes da lavagem das mãos para apenas 2% quando a lavagem das mãos foi aplicada (o que ainda é um número alto para os padrões modernos).\n",
    "Para ter uma ideia da incerteza sobre o quanto a lavagem das mãos reduz as mortalidades, poderíamos olhar para um intervalo de confiança (aqui calculado usando um teste t). </p>"
   ]
  },
  {
   "cell_type": "code",
   "execution_count": 58,
   "id": "37197b0c-8afd-4fa5-b123-4beb961cf383",
   "metadata": {},
   "outputs": [
    {
     "data": {
      "text/plain": [
       "\n",
       "\tWelch Two Sample t-test\n",
       "\n",
       "data:  proportion_deaths by handwashing_started\n",
       "t = 9.6101, df = 92.435, p-value = 1.445e-15\n",
       "alternative hypothesis: true difference in means is not equal to 0\n",
       "95 percent confidence interval:\n",
       " 0.06660662 0.10130659\n",
       "sample estimates:\n",
       "mean in group FALSE  mean in group TRUE \n",
       "         0.10504998          0.02109338 \n"
      ]
     },
     "metadata": {},
     "output_type": "display_data"
    }
   ],
   "source": [
    "# Calculando um intervalo de confiança de 95% usando t.test\n",
    "test_result <- t.test( proportion_deaths ~ handwashing_started, data = monthly)\n",
    "test_result"
   ]
  },
  {
   "cell_type": "code",
   "execution_count": 59,
   "id": "5f6bfde7-edd9-4131-b5b2-ec7c1905c248",
   "metadata": {},
   "outputs": [],
   "source": [
    "# Os dados que Semmelweis coletou apontam para isso:\n",
    "doctors_should_wash_their_hands <- TRUE"
   ]
  },
  {
   "cell_type": "code",
   "execution_count": null,
   "id": "ad546818-ec1f-4ba9-a264-bb606bd4b4cc",
   "metadata": {},
   "outputs": [],
   "source": []
  },
  {
   "cell_type": "code",
   "execution_count": null,
   "id": "299cf91f-e060-445e-b7cf-0a1f183bcaf2",
   "metadata": {},
   "outputs": [],
   "source": []
  }
 ],
 "metadata": {
  "kernelspec": {
   "display_name": "R",
   "language": "R",
   "name": "ir"
  },
  "language_info": {
   "codemirror_mode": "r",
   "file_extension": ".r",
   "mimetype": "text/x-r-source",
   "name": "R",
   "pygments_lexer": "r",
   "version": "3.6.1"
  }
 },
 "nbformat": 4,
 "nbformat_minor": 5
}
